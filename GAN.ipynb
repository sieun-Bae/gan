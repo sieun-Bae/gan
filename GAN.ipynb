{
 "cells": [
  {
   "cell_type": "code",
   "execution_count": 1,
   "metadata": {
    "colab": {},
    "colab_type": "code",
    "id": "50G3iKG1452Q"
   },
   "outputs": [],
   "source": [
    "import tensorflow as tf\n",
    "import matplotlib.pyplot as plt\n",
    "import numpy as np\n",
    "from tensorflow.examples.tutorials.mnist import input_data"
   ]
  },
  {
   "cell_type": "markdown",
   "metadata": {
    "colab_type": "text",
    "id": "-b5Z8f1OsJya"
   },
   "source": [
    "### 데이터 전처리 방식 지정"
   ]
  },
  {
   "cell_type": "code",
   "execution_count": 2,
   "metadata": {
    "colab": {},
    "colab_type": "code",
    "id": "9GG0MUrG5EyP"
   },
   "outputs": [
    {
     "name": "stdout",
     "output_type": "stream",
     "text": [
      "WARNING:tensorflow:From <ipython-input-2-db306d7dfabb>:1: read_data_sets (from tensorflow.contrib.learn.python.learn.datasets.mnist) is deprecated and will be removed in a future version.\n",
      "Instructions for updating:\n",
      "Please use alternatives such as official/mnist/dataset.py from tensorflow/models.\n",
      "WARNING:tensorflow:From /usr/local/lib/python3.7/site-packages/tensorflow/contrib/learn/python/learn/datasets/mnist.py:260: maybe_download (from tensorflow.contrib.learn.python.learn.datasets.base) is deprecated and will be removed in a future version.\n",
      "Instructions for updating:\n",
      "Please write your own downloading logic.\n",
      "WARNING:tensorflow:From /usr/local/lib/python3.7/site-packages/tensorflow/contrib/learn/python/learn/datasets/base.py:252: _internal_retry.<locals>.wrap.<locals>.wrapped_fn (from tensorflow.contrib.learn.python.learn.datasets.base) is deprecated and will be removed in a future version.\n",
      "Instructions for updating:\n",
      "Please use urllib or similar directly.\n",
      "Successfully downloaded train-images-idx3-ubyte.gz 9912422 bytes.\n",
      "WARNING:tensorflow:From /usr/local/lib/python3.7/site-packages/tensorflow/contrib/learn/python/learn/datasets/mnist.py:262: extract_images (from tensorflow.contrib.learn.python.learn.datasets.mnist) is deprecated and will be removed in a future version.\n",
      "Instructions for updating:\n",
      "Please use tf.data to implement this functionality.\n",
      "Extracting ./mnist/data/train-images-idx3-ubyte.gz\n",
      "Successfully downloaded train-labels-idx1-ubyte.gz 28881 bytes.\n",
      "WARNING:tensorflow:From /usr/local/lib/python3.7/site-packages/tensorflow/contrib/learn/python/learn/datasets/mnist.py:267: extract_labels (from tensorflow.contrib.learn.python.learn.datasets.mnist) is deprecated and will be removed in a future version.\n",
      "Instructions for updating:\n",
      "Please use tf.data to implement this functionality.\n",
      "Extracting ./mnist/data/train-labels-idx1-ubyte.gz\n",
      "WARNING:tensorflow:From /usr/local/lib/python3.7/site-packages/tensorflow/contrib/learn/python/learn/datasets/mnist.py:110: dense_to_one_hot (from tensorflow.contrib.learn.python.learn.datasets.mnist) is deprecated and will be removed in a future version.\n",
      "Instructions for updating:\n",
      "Please use tf.one_hot on tensors.\n",
      "Successfully downloaded t10k-images-idx3-ubyte.gz 1648877 bytes.\n",
      "Extracting ./mnist/data/t10k-images-idx3-ubyte.gz\n",
      "Successfully downloaded t10k-labels-idx1-ubyte.gz 4542 bytes.\n",
      "Extracting ./mnist/data/t10k-labels-idx1-ubyte.gz\n",
      "WARNING:tensorflow:From /usr/local/lib/python3.7/site-packages/tensorflow/contrib/learn/python/learn/datasets/mnist.py:290: DataSet.__init__ (from tensorflow.contrib.learn.python.learn.datasets.mnist) is deprecated and will be removed in a future version.\n",
      "Instructions for updating:\n",
      "Please use alternatives such as official/mnist/dataset.py from tensorflow/models.\n"
     ]
    }
   ],
   "source": [
    "mnist = input_data.read_data_sets(\"./mnist/data\", one_hot = True)\n",
    "X = tf.placeholder(tf.float32, [None, 28*28]) #MNIST = 28*28\n",
    "Z = tf.placeholder(tf.float32, [None, 128]) #Noise Dimension = 128"
   ]
  },
  {
   "cell_type": "markdown",
   "metadata": {
    "colab_type": "text",
    "id": "uA2lX_kcs1D1"
   },
   "source": [
    "### GAN의 생성자(Generator) 선언\n",
    "Noise z를 받아서 fake data를 만드는 Generator\n",
    "- Fake data와 1 사이의 loss"
   ]
  },
  {
   "cell_type": "code",
   "execution_count": 3,
   "metadata": {
    "colab": {},
    "colab_type": "code",
    "id": "pioKOjRQ5Vwl"
   },
   "outputs": [],
   "source": [
    "G_W1 = tf.Variable(tf.random_normal([128,256], stddev=0.01))\n",
    "G_W2 = tf.Variable(tf.random_normal([256,28*28], stddev=0.01))\n",
    "G_b1 = tf.Variable(tf.zeros([256]))\n",
    "G_b2 = tf.Variable(tf.zeros([28*28]))\n",
    "\n",
    "def generator(noise_z):\n",
    "  hidden = tf.nn.relu(tf.matmul(noise_z, G_W1)+G_b1)\n",
    "  output = tf.nn.sigmoid(tf.matmul(hidden, G_W2)+ G_b2)\n",
    "  return output"
   ]
  },
  {
   "cell_type": "markdown",
   "metadata": {
    "colab_type": "text",
    "id": "hnUnDf_AuV4d"
   },
   "source": [
    "### GAN의 구분자(Discriminator) 선언\n",
    "Real data와 Fake data를 구분하는 Discriminator\n",
    "\n",
    "- Real data와 1 사이의 loss\n",
    "- Fake data와 0 사이의 loss"
   ]
  },
  {
   "cell_type": "code",
   "execution_count": 4,
   "metadata": {
    "colab": {},
    "colab_type": "code",
    "id": "JB_35_LJ5128"
   },
   "outputs": [],
   "source": [
    "D_W1 = tf.Variable(tf.random_normal([28*28, 256], stddev=0.01))\n",
    "D_W2 = tf.Variable(tf.random_normal([256, 1], stddev=0.01))\n",
    "D_b1 = tf.Variable(tf.zeros([256]))\n",
    "D_b2 = tf.Variable(tf.zeros([1]))\n",
    "\n",
    "def discriminator(inputs):\n",
    "  hidden = tf.nn.relu(tf.matmul(inputs, D_W1)+D_b1)\n",
    "  output = tf.nn.sigmoid(tf.matmul(hidden, D_W2)+D_b2)\n",
    "  return output"
   ]
  },
  {
   "cell_type": "markdown",
   "metadata": {
    "colab_type": "text",
    "id": "fiuBoI5ZwnQP"
   },
   "source": [
    "### 생성, loss, optimization"
   ]
  },
  {
   "cell_type": "code",
   "execution_count": 5,
   "metadata": {
    "colab": {},
    "colab_type": "code",
    "id": "mXpyVXDhzygu"
   },
   "outputs": [],
   "source": [
    "G = generator(Z)\n",
    "\n",
    "loss_D = -tf.reduce_mean(tf.log(discriminator(X)) + tf.log(1-discriminator(G)))\n",
    "loss_G = -tf.reduce_mean(tf.log(discriminator(G)))\n",
    "\n",
    "train_D = tf.train.AdamOptimizer(learning_rate = 0.0002).minimize(loss_D, var_list=[D_W1, D_b1, D_W2, D_b2])\n",
    "train_G = tf.train.AdamOptimizer(learning_rate = 0.0002).minimize(loss_G, var_list=[G_W1, G_b1, G_W2, G_b2])\n"
   ]
  },
  {
   "cell_type": "markdown",
   "metadata": {
    "colab_type": "text",
    "id": "W584iTOi7gg8"
   },
   "source": [
    "### Training and Testing"
   ]
  },
  {
   "cell_type": "code",
   "execution_count": 9,
   "metadata": {
    "colab": {},
    "colab_type": "code",
    "id": "c3EqAZJ97ixV"
   },
   "outputs": [],
   "source": [
    "sess = tf.Session()\n",
    "sess.run(tf.global_variables_initializer())\n",
    "\n",
    "noise_test = np.random.normal(size=(10,128))\n",
    "for epoch in range(200):\n",
    "  for i in range(int(mnist.train.num_examples/100)):\n",
    "    batch_xs, _ = mnist.train.next_batch(100)\n",
    "    noise = np.random.normal(size=(100,128))\n",
    "    \n",
    "    sess.run(train_D, feed_dict={X: batch_xs, Z:noise})\n",
    "    sess.run(train_G, feed_dict={Z: noise})\n",
    "  if epoch == 0 or (epoch+1) % 10 == 0:\n",
    "    samples = sess.run(G, feed_dict={Z: noise_test})\n",
    "    \n",
    "    fig, ax = plt.subplots(1,10,figsize=(10,1)) #saving period\n",
    "    for i in range(10):\n",
    "      ax[i].set_axis_off()\n",
    "      ax[i].imshow(np.reshape(samples[i], (28,28)))\n",
    "    plt.savefig('samples/{}.png'.format(str(epoch).zfill(3)), bbox_inches='tight')\n",
    "    plt.close(fig)"
   ]
  },
  {
   "cell_type": "code",
   "execution_count": 0,
   "metadata": {
    "colab": {},
    "colab_type": "code",
    "id": "0UAgX60y8gpo"
   },
   "outputs": [],
   "source": []
  }
 ],
 "metadata": {
  "accelerator": "GPU",
  "colab": {
   "collapsed_sections": [],
   "name": "GAN.ipynb",
   "provenance": []
  },
  "kernelspec": {
   "display_name": "Python 3",
   "language": "python",
   "name": "python3"
  },
  "language_info": {
   "codemirror_mode": {
    "name": "ipython",
    "version": 3
   },
   "file_extension": ".py",
   "mimetype": "text/x-python",
   "name": "python",
   "nbconvert_exporter": "python",
   "pygments_lexer": "ipython3",
   "version": "3.7.3"
  }
 },
 "nbformat": 4,
 "nbformat_minor": 1
}
